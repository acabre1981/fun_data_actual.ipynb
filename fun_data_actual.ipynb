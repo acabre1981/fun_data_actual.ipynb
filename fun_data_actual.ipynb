{
  "nbformat": 4,
  "nbformat_minor": 0,
  "metadata": {
    "colab": {
      "provenance": [],
      "include_colab_link": true
    },
    "kernelspec": {
      "name": "python3",
      "display_name": "Python 3"
    },
    "language_info": {
      "name": "python"
    }
  },
  "cells": [
    {
      "cell_type": "markdown",
      "metadata": {
        "id": "view-in-github",
        "colab_type": "text"
      },
      "source": [
        "<a href=\"https://colab.research.google.com/gist/acabre1981/95002f5aa38f5fd346364722ff83f287/fun_data_actual.ipynb\" target=\"_parent\"><img src=\"https://colab.research.google.com/assets/colab-badge.svg\" alt=\"Open In Colab\"/></a>"
      ]
    },
    {
      "cell_type": "code",
      "execution_count": null,
      "metadata": {
        "id": "VkiH726mbICP"
      },
      "outputs": [],
      "source": [
        "import pandas as pd\n",
        "import requests\n",
        "from datetime import date\n",
        "import numpy as np\n",
        "today=date.today()\n",
        "def traerSeries(symbol,interval,outputsize):\n",
        "    \n",
        "    '''❚ Required: function\n",
        "\n",
        "        The time series of your choice. In this case, function=TIME_SERIES_INTRADAY\n",
        "\n",
        "        ❚ Required: symbol\n",
        "\n",
        "      The name of the equity of your choice. For example: symbol=IBM\n",
        "\n",
        "        ❚ Required: interval\n",
        "\n",
        "      Time interval between two consecutive data points in the time series. The following values are supported: 1min, 5min, 15min, 30min, 60min\n",
        "\n",
        "        ❚ Optional: adjusted\n",
        "\n",
        "      By default, adjusted=true and the output time series is adjusted by historical split and dividend events. Set adjusted=false to query raw (as-traded) intraday values.\n",
        "\n",
        "      ❚ Optional: outputsize\n",
        "\n",
        "      By default, outputsize=compact. Strings compact and full are accepted with the following specifications: compact returns only the latest 100 data points in the intraday time series; full returns the full-length intraday time series. The \"compact\" option is recommended if you would like to reduce the data size of each API call.\n",
        "\n",
        "      ❚ Optional: datatype\n",
        "\n",
        "    \n",
        "    '''\n",
        "    \n",
        "    \n",
        "    \n",
        "    \n",
        "    url='https://www.alphavantage.co/query'\n",
        "    parametros={'function':'TIME_SERIES_INTRADAY',\n",
        "                'symbol':symbol,\n",
        "                'interval':interval, \n",
        "                'outputsize':outputsize,\n",
        "                'apikey':key()}\n",
        "\n",
        "\n",
        "    r=requests.get(url,params=parametros)\n",
        "\n",
        "\n",
        "    try: \n",
        "        data_pred=r.json()['Time Series ('+interval+')']\n",
        "        df_pred=pd.DataFrame.from_dict(data_pred,orient='index')#aca transpone la matriz\n",
        "        df_pred.index.name='Time'\n",
        "        df_pred.columns=['Open','High','Low','Close','Volume']\n",
        "        df_pred.index=pd.to_datetime(df_pred.index)\n",
        "        df_pred.sort_index(inplace=True)\n",
        "        print('procesando activo'+symbol)        \n",
        "    except:\n",
        "        df_pred=pd.DataFrame()\n",
        "        print('falla el request\\n\\nRespuesta de la API:\\n', r.text)\n",
        "    return df_pred\n",
        "        "
      ]
    },
    {
      "cell_type": "code",
      "source": [],
      "metadata": {
        "id": "lWMVh0Q6baYF"
      },
      "execution_count": null,
      "outputs": []
    }
  ]
}